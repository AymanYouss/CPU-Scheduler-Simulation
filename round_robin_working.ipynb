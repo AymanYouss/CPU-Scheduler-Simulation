{
 "cells": [
  {
   "cell_type": "code",
   "execution_count": 19,
   "metadata": {},
   "outputs": [
    {
     "name": "stdout",
     "output_type": "stream",
     "text": [
      "['p1', 'p2', 'p3', 'p4', 'p5', 'p1', 'p2', 'p5', 'p1']\n",
      "{'p3': [5, 3, 2], 'p4': [7, 4, 2], 'p2': [12, 11, 8], 'p5': [13, 9, 6], 'p1': [14, 14, 9]}\n"
     ]
    }
   ],
   "source": [
    "def round_robin(process_list,time_quanta):\n",
    "    t = 0\n",
    "    gantt = []\n",
    "    completed = {}\n",
    "    #sort the processes wrt at\n",
    "    process_list.sort()\n",
    "    burst_times = {}\n",
    "    for p in process_list:\n",
    "        pid = p[2]\n",
    "        burst_time = p[1]\n",
    "        burst_times[pid] = burst_time\n",
    "    while process_list != []:\n",
    "        available = []\n",
    "        for p in process_list:\n",
    "            at = p[0]\n",
    "            if p[0] <= t:\n",
    "                available.append(p)\n",
    "        #boundary condition 1\n",
    "        if available == []:\n",
    "            gantt.append(\"Idle\")\n",
    "            t += 1\n",
    "            continue\n",
    "        else:\n",
    "            process = available[0] \n",
    "            #Service this process now\n",
    "            gantt.append(process[2])\n",
    "            #remove the process\n",
    "            process_list.remove(process)\n",
    "            #Update the burst time\n",
    "            rem_burst = process[1]\n",
    "            if rem_burst <= time_quanta:\n",
    "                t += rem_burst\n",
    "                ct = t\n",
    "                pid = process[2]\n",
    "                arrival_time = process[0]\n",
    "                burst_time = burst_times[pid]\n",
    "                tt = ct - arrival_time\n",
    "                wt = tt - burst_time\n",
    "                completed[process[2]] = [ct,tt,wt]\n",
    "                continue\n",
    "            else:\n",
    "                t += time_quanta\n",
    "                process[1] -= time_quanta\n",
    "                process_list.append(process)\n",
    "    print(gantt)\n",
    "    print(completed)\n",
    "\n",
    "if __name__ ==\"__main__\":\n",
    "    process_list = [[0,5,\"p1\"],[1,3,\"p2\"],[2,1,\"p3\"],[3,2,\"p4\"],[4,3,\"p5\"]]\n",
    "    time_quanta = 2\n",
    "    round_robin(process_list,time_quanta)"
   ]
  },
  {
   "cell_type": "code",
   "execution_count": null,
   "metadata": {},
   "outputs": [],
   "source": []
  }
 ],
 "metadata": {
  "kernelspec": {
   "display_name": "goodenv",
   "language": "python",
   "name": "python3"
  },
  "language_info": {
   "codemirror_mode": {
    "name": "ipython",
    "version": 3
   },
   "file_extension": ".py",
   "mimetype": "text/x-python",
   "name": "python",
   "nbconvert_exporter": "python",
   "pygments_lexer": "ipython3",
   "version": "3.11.8"
  }
 },
 "nbformat": 4,
 "nbformat_minor": 2
}
